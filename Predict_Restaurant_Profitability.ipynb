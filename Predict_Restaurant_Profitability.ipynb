{
 "cells": [
  {
   "cell_type": "markdown",
   "id": "107560f3",
   "metadata": {
    "slideshow": {
     "slide_type": "slide"
    }
   },
   "source": [
    "# Predict Restaurant Menu Items Profitability"
   ]
  },
  {
   "cell_type": "markdown",
   "id": "d19d15de",
   "metadata": {
    "slideshow": {
     "slide_type": "slide"
    }
   },
   "source": [
    "## About Dataset\n",
    "### Overview:\n",
    "This dataset provides insights into restaurant menu optimization, aiming to maximize profitability by analyzing menu item categories, ingredients, prices, and profitability indicators.\n",
    "\n",
    "### Variables:\n",
    "* **RestaurantID**: Identifier of the restaurant.\n",
    "* **MenuCategory**: Category of the menu item (Appetizers, Main Course, Desserts, Beverages).\n",
    "* **MenuItem**: Name of the menu item.\n",
    "* **Ingredients**: List of ingredients used in the menu item (confidential data included for beverages).\n",
    "* **Price**: Price of the menu item in dollars (rounded to two decimal places).\n",
    "* **Profitability**: Target variable indicating menu item profitability (High/Medium/Low)."
   ]
  },
  {
   "cell_type": "code",
   "execution_count": 61,
   "id": "d31455a7",
   "metadata": {
    "slideshow": {
     "slide_type": "skip"
    }
   },
   "outputs": [],
   "source": [
    "#import libraries \n",
    "import pandas as pd \n",
    "import matplotlib.pyplot as plt \n",
    "import numpy as np \n",
    "import seaborn as sns "
   ]
  },
  {
   "cell_type": "code",
   "execution_count": 123,
   "id": "cf58d495",
   "metadata": {
    "slideshow": {
     "slide_type": "skip"
    }
   },
   "outputs": [
    {
     "data": {
      "text/html": [
       "<div>\n",
       "<style scoped>\n",
       "    .dataframe tbody tr th:only-of-type {\n",
       "        vertical-align: middle;\n",
       "    }\n",
       "\n",
       "    .dataframe tbody tr th {\n",
       "        vertical-align: top;\n",
       "    }\n",
       "\n",
       "    .dataframe thead th {\n",
       "        text-align: right;\n",
       "    }\n",
       "</style>\n",
       "<table border=\"1\" class=\"dataframe\">\n",
       "  <thead>\n",
       "    <tr style=\"text-align: right;\">\n",
       "      <th></th>\n",
       "      <th>RestaurantID</th>\n",
       "      <th>MenuCategory</th>\n",
       "      <th>MenuItem</th>\n",
       "      <th>Ingredients</th>\n",
       "      <th>Price</th>\n",
       "      <th>Profitability</th>\n",
       "    </tr>\n",
       "  </thead>\n",
       "  <tbody>\n",
       "    <tr>\n",
       "      <th>0</th>\n",
       "      <td>R003</td>\n",
       "      <td>Beverages</td>\n",
       "      <td>Soda</td>\n",
       "      <td>['confidential']</td>\n",
       "      <td>2.55</td>\n",
       "      <td>Low</td>\n",
       "    </tr>\n",
       "    <tr>\n",
       "      <th>1</th>\n",
       "      <td>R001</td>\n",
       "      <td>Appetizers</td>\n",
       "      <td>Spinach Artichoke Dip</td>\n",
       "      <td>['Tomatoes', 'Basil', 'Garlic', 'Olive Oil']</td>\n",
       "      <td>11.12</td>\n",
       "      <td>Medium</td>\n",
       "    </tr>\n",
       "    <tr>\n",
       "      <th>2</th>\n",
       "      <td>R003</td>\n",
       "      <td>Desserts</td>\n",
       "      <td>New York Cheesecake</td>\n",
       "      <td>['Chocolate', 'Butter', 'Sugar', 'Eggs']</td>\n",
       "      <td>18.66</td>\n",
       "      <td>High</td>\n",
       "    </tr>\n",
       "    <tr>\n",
       "      <th>3</th>\n",
       "      <td>R003</td>\n",
       "      <td>Main Course</td>\n",
       "      <td>Chicken Alfredo</td>\n",
       "      <td>['Chicken', 'Fettuccine', 'Alfredo Sauce', 'Pa...</td>\n",
       "      <td>29.55</td>\n",
       "      <td>High</td>\n",
       "    </tr>\n",
       "    <tr>\n",
       "      <th>4</th>\n",
       "      <td>R002</td>\n",
       "      <td>Main Course</td>\n",
       "      <td>Grilled Steak</td>\n",
       "      <td>['Chicken', 'Fettuccine', 'Alfredo Sauce', 'Pa...</td>\n",
       "      <td>17.73</td>\n",
       "      <td>Medium</td>\n",
       "    </tr>\n",
       "  </tbody>\n",
       "</table>\n",
       "</div>"
      ],
      "text/plain": [
       "  RestaurantID MenuCategory               MenuItem  \\\n",
       "0         R003    Beverages                   Soda   \n",
       "1         R001   Appetizers  Spinach Artichoke Dip   \n",
       "2         R003     Desserts    New York Cheesecake   \n",
       "3         R003  Main Course        Chicken Alfredo   \n",
       "4         R002  Main Course          Grilled Steak   \n",
       "\n",
       "                                         Ingredients  Price Profitability  \n",
       "0                                   ['confidential']   2.55           Low  \n",
       "1       ['Tomatoes', 'Basil', 'Garlic', 'Olive Oil']  11.12        Medium  \n",
       "2           ['Chocolate', 'Butter', 'Sugar', 'Eggs']  18.66          High  \n",
       "3  ['Chicken', 'Fettuccine', 'Alfredo Sauce', 'Pa...  29.55          High  \n",
       "4  ['Chicken', 'Fettuccine', 'Alfredo Sauce', 'Pa...  17.73        Medium  "
      ]
     },
     "execution_count": 123,
     "metadata": {},
     "output_type": "execute_result"
    }
   ],
   "source": [
    "# Load dataset \n",
    "df = pd.read_csv('Dataset/restaurant_menu_optimization_data.csv')\n",
    "df.head(5)"
   ]
  },
  {
   "cell_type": "code",
   "execution_count": null,
   "id": "8a2f4e0a",
   "metadata": {
    "slideshow": {
     "slide_type": "skip"
    }
   },
   "outputs": [],
   "source": [
    "# relaion between price & profitability \n",
    "# disturbution of profitability with MenueCategory (using countplot)\n",
    "# relation between menuecategory & price & profitability (using barchart) \n",
    "# "
   ]
  },
  {
   "cell_type": "markdown",
   "id": "35b10465",
   "metadata": {
    "slideshow": {
     "slide_type": "slide"
    }
   },
   "source": [
    "# EDA"
   ]
  },
  {
   "cell_type": "code",
   "execution_count": 18,
   "id": "a2c1a454",
   "metadata": {
    "slideshow": {
     "slide_type": "skip"
    }
   },
   "outputs": [
    {
     "data": {
      "text/plain": [
       "(1000, 6)"
      ]
     },
     "execution_count": 18,
     "metadata": {},
     "output_type": "execute_result"
    }
   ],
   "source": [
    "df.shape"
   ]
  },
  {
   "cell_type": "code",
   "execution_count": 8,
   "id": "f72bed68",
   "metadata": {
    "slideshow": {
     "slide_type": "skip"
    }
   },
   "outputs": [
    {
     "name": "stdout",
     "output_type": "stream",
     "text": [
      "<class 'pandas.core.frame.DataFrame'>\n",
      "RangeIndex: 1000 entries, 0 to 999\n",
      "Data columns (total 6 columns):\n",
      " #   Column         Non-Null Count  Dtype  \n",
      "---  ------         --------------  -----  \n",
      " 0   RestaurantID   1000 non-null   object \n",
      " 1   MenuCategory   1000 non-null   object \n",
      " 2   MenuItem       1000 non-null   object \n",
      " 3   Ingredients    1000 non-null   object \n",
      " 4   Price          1000 non-null   float64\n",
      " 5   Profitability  1000 non-null   object \n",
      "dtypes: float64(1), object(5)\n",
      "memory usage: 47.0+ KB\n"
     ]
    }
   ],
   "source": [
    "df.info()"
   ]
  },
  {
   "cell_type": "code",
   "execution_count": 124,
   "id": "d4ce6819",
   "metadata": {
    "slideshow": {
     "slide_type": "skip"
    }
   },
   "outputs": [
    {
     "data": {
      "text/plain": [
       "27"
      ]
     },
     "execution_count": 124,
     "metadata": {},
     "output_type": "execute_result"
    }
   ],
   "source": [
    "# check duplicated data\n",
    "df.duplicated().sum()"
   ]
  },
  {
   "cell_type": "code",
   "execution_count": 125,
   "id": "b02ecb99",
   "metadata": {
    "slideshow": {
     "slide_type": "skip"
    }
   },
   "outputs": [],
   "source": [
    "# drop duplicates values \n",
    "df.drop_duplicates(inplace = True)"
   ]
  },
  {
   "cell_type": "code",
   "execution_count": 16,
   "id": "8eae484c",
   "metadata": {
    "slideshow": {
     "slide_type": "skip"
    }
   },
   "outputs": [
    {
     "data": {
      "text/plain": [
       "False"
      ]
     },
     "execution_count": 16,
     "metadata": {},
     "output_type": "execute_result"
    }
   ],
   "source": [
    "# check missing values \n",
    "df.isnull().sum().all()"
   ]
  },
  {
   "cell_type": "code",
   "execution_count": 30,
   "id": "40e6fc16",
   "metadata": {
    "slideshow": {
     "slide_type": "slide"
    }
   },
   "outputs": [
    {
     "name": "stdout",
     "output_type": "stream",
     "text": [
      "Unique values of RestaurantID: ['R003' 'R001' 'R002'] \n",
      " \n",
      "Unique values of MenuCategory: ['Beverages' 'Appetizers' 'Desserts' 'Main Course'] \n",
      " \n",
      "Unique values of MenuItem: ['Soda' 'Spinach Artichoke Dip' 'New York Cheesecake' 'Chicken Alfredo'\n",
      " 'Grilled Steak' 'Stuffed Mushrooms' 'Tiramisu' 'Lemonade'\n",
      " 'Chocolate Lava Cake' 'Iced Tea' 'Coffee' 'Bruschetta'\n",
      " 'Vegetable Stir-Fry' 'Shrimp Scampi' 'Fruit Tart' 'Caprese Salad'] \n",
      " \n",
      "Unique values of Ingredients: [\"['confidential']\" \"['Tomatoes', 'Basil', 'Garlic', 'Olive Oil']\"\n",
      " \"['Chocolate', 'Butter', 'Sugar', 'Eggs']\"\n",
      " \"['Chicken', 'Fettuccine', 'Alfredo Sauce', 'Parmesan']\"] \n",
      " \n",
      "Unique values of Profitability: ['Low' 'Medium' 'High'] \n",
      " \n"
     ]
    }
   ],
   "source": [
    "## check unique values of categorical data\n",
    "cols = ['RestaurantID' , 'MenuCategory' , 'MenuItem' , 'Ingredients', 'Profitability']\n",
    "\n",
    "for col in cols: \n",
    "    print(f'Unique values of {col}: {df[col].unique()} ')\n",
    "    print(' ')"
   ]
  },
  {
   "cell_type": "markdown",
   "id": "f145324e",
   "metadata": {
    "slideshow": {
     "slide_type": "slide"
    }
   },
   "source": [
    "## Let's get the pie plot of each categorical feature "
   ]
  },
  {
   "cell_type": "code",
   "execution_count": 64,
   "id": "4f02e5da",
   "metadata": {
    "slideshow": {
     "slide_type": "skip"
    }
   },
   "outputs": [],
   "source": [
    "\n",
    "def pie_plot(col):\n",
    "    \n",
    "    pallete_color = sns.color_palette('Set2')\n",
    "    df[col].value_counts().plot.pie(y=col ,autopct='%1.0f%%',colors = pallete_color , figsize=(6,6));\n",
    "    plt.title(f'Pie plot of {col}')\n",
    "    "
   ]
  },
  {
   "cell_type": "code",
   "execution_count": 65,
   "id": "d8fcd2f1",
   "metadata": {
    "slideshow": {
     "slide_type": "subslide"
    }
   },
   "outputs": [
    {
     "data": {
      "image/png": "[encoded data removed]",
      "text/plain": [
       "<Figure size 432x432 with 1 Axes>"
      ]
     },
     "metadata": {},
     "output_type": "display_data"
    }
   ],
   "source": [
    "## RestaurantID\n",
    "figsize=(12, 6)\n",
    "pie_plot('RestaurantID')\n"
   ]
  },
  {
   "cell_type": "markdown",
   "id": "9a9f1331",
   "metadata": {
    "slideshow": {
     "slide_type": "fragment"
    }
   },
   "source": [
    "* plot indicates that there are **close proportions** among IDS"
   ]
  },
  {
   "cell_type": "code",
   "execution_count": 66,
   "id": "a4863b01",
   "metadata": {
    "slideshow": {
     "slide_type": "subslide"
    }
   },
   "outputs": [
    {
     "data": {
      "image/png": "[encoded data removed]",
      "text/plain": [
       "<Figure size 432x432 with 1 Axes>"
      ]
     },
     "metadata": {},
     "output_type": "display_data"
    }
   ],
   "source": [
    "## MenuCategory\n",
    "figsize=(12, 6)\n",
    "pie_plot('MenuCategory')"
   ]
  },
  {
   "cell_type": "code",
   "execution_count": 77,
   "id": "a870bd3b",
   "metadata": {
    "slideshow": {
     "slide_type": "subslide"
    }
   },
   "outputs": [
    {
     "data": {
      "image/png": "[encoded data removed]",
      "text/plain": [
       "<Figure size 432x432 with 1 Axes>"
      ]
     },
     "metadata": {},
     "output_type": "display_data"
    }
   ],
   "source": [
    "##Profitability\n",
    "figsize=(12, 6)\n",
    "pie_plot('Profitability')"
   ]
  },
  {
   "cell_type": "markdown",
   "id": "d2e16f4e",
   "metadata": {
    "slideshow": {
     "slide_type": "fragment"
    }
   },
   "source": [
    "* **49%** of resturant menue items profitability is **medium**, **39%** high and the other is low "
   ]
  },
  {
   "cell_type": "markdown",
   "id": "ff05769d",
   "metadata": {
    "slideshow": {
     "slide_type": "slide"
    }
   },
   "source": [
    "### Count plot of  Menu Category & Menu Items: "
   ]
  },
  {
   "cell_type": "code",
   "execution_count": 70,
   "id": "ee3ef87b",
   "metadata": {
    "slideshow": {
     "slide_type": "subslide"
    }
   },
   "outputs": [
    {
     "data": {
      "text/plain": [
       "Text(0.5, 1.0, 'Bar plot of MenuCategory')"
      ]
     },
     "execution_count": 70,
     "metadata": {},
     "output_type": "execute_result"
    },
    {
     "data": {
      "image/png": "[encoded data removed]",
      "text/plain": [
       "<Figure size 720x360 with 1 Axes>"
      ]
     },
     "metadata": {
      "needs_background": "light"
     },
     "output_type": "display_data"
    }
   ],
   "source": [
    "plt.figure(figsize=(10,5))\n",
    "sns.countplot(data = df, x ='MenuCategory', order = df['MenuCategory'].value_counts().index)\n",
    "plt.title('Bar plot of MenuCategory')"
   ]
  },
  {
   "cell_type": "code",
   "execution_count": 81,
   "id": "e73aeeae",
   "metadata": {
    "slideshow": {
     "slide_type": "subslide"
    }
   },
   "outputs": [
    {
     "data": {
      "text/plain": [
       "Text(0.5, 1.0, 'Bar plot of MenuItem')"
      ]
     },
     "execution_count": 81,
     "metadata": {},
     "output_type": "execute_result"
    },
    {
     "data": {
      "image/png": "[encoded data removed]",
      "text/plain": [
       "<Figure size 1008x504 with 1 Axes>"
      ]
     },
     "metadata": {
      "needs_background": "light"
     },
     "output_type": "display_data"
    }
   ],
   "source": [
    "## MenuItem\n",
    "\n",
    "plt.figure(figsize=(14,7))\n",
    "sns.countplot(data = df, y ='MenuItem', order = df['MenuItem'].value_counts().index)\n",
    "plt.title('Bar plot of MenuItem')"
   ]
  },
  {
   "cell_type": "markdown",
   "id": "c79ec967",
   "metadata": {
    "slideshow": {
     "slide_type": "fragment"
    }
   },
   "source": [
    "* **New York Cheesecake** is the most items that has been ordered. "
   ]
  },
  {
   "cell_type": "code",
   "execution_count": 75,
   "id": "32120604",
   "metadata": {
    "slideshow": {
     "slide_type": "skip"
    }
   },
   "outputs": [
    {
     "data": {
      "text/plain": [
       "MenuItem               Ingredients                                           \n",
       "Bruschetta             ['Tomatoes', 'Basil', 'Garlic', 'Olive Oil']              62\n",
       "Caprese Salad          ['Tomatoes', 'Basil', 'Garlic', 'Olive Oil']              65\n",
       "Chicken Alfredo        ['Chicken', 'Fettuccine', 'Alfredo Sauce', 'Parmesan']    49\n",
       "Chocolate Lava Cake    ['Chocolate', 'Butter', 'Sugar', 'Eggs']                  54\n",
       "Coffee                 ['confidential']                                          63\n",
       "Fruit Tart             ['Chocolate', 'Butter', 'Sugar', 'Eggs']                  60\n",
       "Grilled Steak          ['Chicken', 'Fettuccine', 'Alfredo Sauce', 'Parmesan']    55\n",
       "Iced Tea               ['confidential']                                          64\n",
       "Lemonade               ['confidential']                                          55\n",
       "New York Cheesecake    ['Chocolate', 'Butter', 'Sugar', 'Eggs']                  70\n",
       "Shrimp Scampi          ['Chicken', 'Fettuccine', 'Alfredo Sauce', 'Parmesan']    54\n",
       "Soda                   ['confidential']                                          66\n",
       "Spinach Artichoke Dip  ['Tomatoes', 'Basil', 'Garlic', 'Olive Oil']              62\n",
       "Stuffed Mushrooms      ['Tomatoes', 'Basil', 'Garlic', 'Olive Oil']              59\n",
       "Tiramisu               ['Chocolate', 'Butter', 'Sugar', 'Eggs']                  69\n",
       "Vegetable Stir-Fry     ['Chicken', 'Fettuccine', 'Alfredo Sauce', 'Parmesan']    66\n",
       "Name: Ingredients, dtype: int64"
      ]
     },
     "execution_count": 75,
     "metadata": {},
     "output_type": "execute_result"
    }
   ],
   "source": [
    "df.groupby('MenuItem')['Ingredients'].value_counts()\n",
    "\n",
    "## the ingredients of all items "
   ]
  },
  {
   "cell_type": "markdown",
   "id": "d847033b",
   "metadata": {
    "slideshow": {
     "slide_type": "slide"
    }
   },
   "source": [
    "### Disturbution of Distribution of Menue Items  with Menue Category :"
   ]
  },
  {
   "cell_type": "code",
   "execution_count": 93,
   "id": "6091dae3",
   "metadata": {
    "slideshow": {
     "slide_type": "subslide"
    }
   },
   "outputs": [
    {
     "data": {
      "image/png": "[encoded data removed]",
      "text/plain": [
       "<Figure size 1008x504 with 1 Axes>"
      ]
     },
     "metadata": {
      "needs_background": "light"
     },
     "output_type": "display_data"
    }
   ],
   "source": [
    "plt.figure(figsize=(14, 7))\n",
    "sns.countplot(y='MenuItem', order=df['MenuItem'].value_counts().index, data=df, \n",
    "              hue='MenuCategory')\n",
    "\n",
    "plt.ylabel('Menu Items')\n",
    "plt.xlabel('Counts')\n",
    "plt.title('Distribution  of Menue Items  with Menue Category ')\n",
    "plt.show()"
   ]
  },
  {
   "cell_type": "markdown",
   "id": "53a94856",
   "metadata": {
    "slideshow": {
     "slide_type": "subslide"
    }
   },
   "source": [
    "#### The plot above explains that: \n",
    "* **1-** there are 4 items from **deserts (cheesecake, traumesiu, fruit tart, chocolate lava cake)**, 4 from **Beverages (soda, iced tea, coffee, lemonda)**, 4 from **Main course (vegetable stir fry, Grilled steak, shrimp scampi, chicken Alferido)** and 4  from **Apetizers (Caprese Salad, Spinach Dip, Bruschetta, stuffed mushroom)** .\n",
    "\n",
    "* **2-** cheese **cake & tramesu** are most ordered items in deserts and also in all items, **soda** is the most one in beverages, **vegetable stir fry** in main course and caprese salad in Aprtizerse . "
   ]
  },
  {
   "cell_type": "markdown",
   "id": "aafff481",
   "metadata": {
    "slideshow": {
     "slide_type": "slide"
    }
   },
   "source": [
    "### Distribution of Menue Category with Resturant ID: "
   ]
  },
  {
   "cell_type": "code",
   "execution_count": 96,
   "id": "841e8c3e",
   "metadata": {
    "slideshow": {
     "slide_type": "subslide"
    }
   },
   "outputs": [
    {
     "data": {
      "image/png": "[encoded data removed]",
      "text/plain": [
       "<Figure size 1080x432 with 1 Axes>"
      ]
     },
     "metadata": {
      "needs_background": "light"
     },
     "output_type": "display_data"
    }
   ],
   "source": [
    "plt.figure(figsize=(15, 6))\n",
    "sns.countplot(x='MenuCategory', order=df['MenuCategory'].value_counts().index, data=df, hue='RestaurantID', palette='Dark2')\n",
    "plt.title('Distribution of Menue Category with Resturant ID')\n",
    "plt.xlabel('Menue Category')\n",
    "plt.show()"
   ]
  },
  {
   "cell_type": "markdown",
   "id": "5c9b6ca9",
   "metadata": {
    "slideshow": {
     "slide_type": "slide"
    }
   },
   "source": [
    "###  Relaion Among Item Price & Resturant Profitability & Menue Category : "
   ]
  },
  {
   "cell_type": "code",
   "execution_count": 113,
   "id": "206c2693",
   "metadata": {
    "slideshow": {
     "slide_type": "subslide"
    }
   },
   "outputs": [
    {
     "data": {
      "image/png": "[encoded data removed]",
      "text/plain": [
       "<Figure size 864x432 with 1 Axes>"
      ]
     },
     "metadata": {
      "needs_background": "light"
     },
     "output_type": "display_data"
    }
   ],
   "source": [
    "plt.figure(figsize=(12, 6))\n",
    "sns.scatterplot(data=df, x='MenuCategory', y='Price' , hue = 'Profitability' )\n",
    "plt.title('Relation between Item Price & Resturant Profitability & Menue Category')\n",
    "plt.xlabel('Menue Category')\n",
    "plt.ylabel('price')\n",
    "plt.show()"
   ]
  },
  {
   "cell_type": "markdown",
   "id": "29a948f1",
   "metadata": {
    "slideshow": {
     "slide_type": "fragment"
    }
   },
   "source": [
    "* This indicates that Beverages is the least price and it has medium and low profitability, then Appetizers, Deserts and Main Course. "
   ]
  },
  {
   "cell_type": "markdown",
   "id": "b6e1b832",
   "metadata": {
    "slideshow": {
     "slide_type": "slide"
    }
   },
   "source": [
    "### Disturbution of Price: "
   ]
  },
  {
   "cell_type": "code",
   "execution_count": 117,
   "id": "8c7aaf58",
   "metadata": {
    "slideshow": {
     "slide_type": "subslide"
    }
   },
   "outputs": [
    {
     "data": {
      "text/plain": [
       "Text(0.5, 1.0, 'Disturbution of Price')"
      ]
     },
     "execution_count": 117,
     "metadata": {},
     "output_type": "execute_result"
    },
    {
     "data": {
      "image/png": "[encoded data removed]",
      "text/plain": [
       "<Figure size 864x432 with 1 Axes>"
      ]
     },
     "metadata": {
      "needs_background": "light"
     },
     "output_type": "display_data"
    }
   ],
   "source": [
    "plt.figure(figsize=(12, 6))\n",
    "bmi_hist = sns.histplot(df['Price'] ,bins=40, kde=True)\n",
    "bmi_hist.lines[0].set_color('black')\n",
    "plt.title('Disturbution of Price')"
   ]
  },
  {
   "cell_type": "markdown",
   "id": "d91e2522",
   "metadata": {
    "slideshow": {
     "slide_type": "skip"
    }
   },
   "source": [
    "# Data Preprocessing"
   ]
  },
  {
   "cell_type": "code",
   "execution_count": 119,
   "id": "f413cba6",
   "metadata": {
    "slideshow": {
     "slide_type": "skip"
    }
   },
   "outputs": [
    {
     "data": {
      "text/html": [
       "<div>\n",
       "<style scoped>\n",
       "    .dataframe tbody tr th:only-of-type {\n",
       "        vertical-align: middle;\n",
       "    }\n",
       "\n",
       "    .dataframe tbody tr th {\n",
       "        vertical-align: top;\n",
       "    }\n",
       "\n",
       "    .dataframe thead th {\n",
       "        text-align: right;\n",
       "    }\n",
       "</style>\n",
       "<table border=\"1\" class=\"dataframe\">\n",
       "  <thead>\n",
       "    <tr style=\"text-align: right;\">\n",
       "      <th></th>\n",
       "      <th>RestaurantID</th>\n",
       "      <th>MenuCategory</th>\n",
       "      <th>MenuItem</th>\n",
       "      <th>Ingredients</th>\n",
       "      <th>Price</th>\n",
       "      <th>Profitability</th>\n",
       "    </tr>\n",
       "  </thead>\n",
       "  <tbody>\n",
       "    <tr>\n",
       "      <th>0</th>\n",
       "      <td>R003</td>\n",
       "      <td>Beverages</td>\n",
       "      <td>Soda</td>\n",
       "      <td>['confidential']</td>\n",
       "      <td>2.55</td>\n",
       "      <td>Low</td>\n",
       "    </tr>\n",
       "    <tr>\n",
       "      <th>1</th>\n",
       "      <td>R001</td>\n",
       "      <td>Appetizers</td>\n",
       "      <td>Spinach Artichoke Dip</td>\n",
       "      <td>['Tomatoes', 'Basil', 'Garlic', 'Olive Oil']</td>\n",
       "      <td>11.12</td>\n",
       "      <td>Medium</td>\n",
       "    </tr>\n",
       "    <tr>\n",
       "      <th>2</th>\n",
       "      <td>R003</td>\n",
       "      <td>Desserts</td>\n",
       "      <td>New York Cheesecake</td>\n",
       "      <td>['Chocolate', 'Butter', 'Sugar', 'Eggs']</td>\n",
       "      <td>18.66</td>\n",
       "      <td>High</td>\n",
       "    </tr>\n",
       "    <tr>\n",
       "      <th>3</th>\n",
       "      <td>R003</td>\n",
       "      <td>Main Course</td>\n",
       "      <td>Chicken Alfredo</td>\n",
       "      <td>['Chicken', 'Fettuccine', 'Alfredo Sauce', 'Pa...</td>\n",
       "      <td>29.55</td>\n",
       "      <td>High</td>\n",
       "    </tr>\n",
       "  </tbody>\n",
       "</table>\n",
       "</div>"
      ],
      "text/plain": [
       "  RestaurantID MenuCategory               MenuItem  \\\n",
       "0         R003    Beverages                   Soda   \n",
       "1         R001   Appetizers  Spinach Artichoke Dip   \n",
       "2         R003     Desserts    New York Cheesecake   \n",
       "3         R003  Main Course        Chicken Alfredo   \n",
       "\n",
       "                                         Ingredients  Price Profitability  \n",
       "0                                   ['confidential']   2.55           Low  \n",
       "1       ['Tomatoes', 'Basil', 'Garlic', 'Olive Oil']  11.12        Medium  \n",
       "2           ['Chocolate', 'Butter', 'Sugar', 'Eggs']  18.66          High  \n",
       "3  ['Chicken', 'Fettuccine', 'Alfredo Sauce', 'Pa...  29.55          High  "
      ]
     },
     "execution_count": 119,
     "metadata": {},
     "output_type": "execute_result"
    }
   ],
   "source": [
    "df.head(4)"
   ]
  },
  {
   "cell_type": "markdown",
   "id": "088b3032",
   "metadata": {
    "slideshow": {
     "slide_type": "skip"
    }
   },
   "source": [
    "## Handling Categorical feature: "
   ]
  },
  {
   "cell_type": "code",
   "execution_count": 127,
   "id": "3533164f",
   "metadata": {
    "slideshow": {
     "slide_type": "skip"
    }
   },
   "outputs": [],
   "source": [
    "## we will convert Resturant ID into one hot encoding\n",
    "dummies = pd.get_dummies(df['RestaurantID'], sparse=True)\n",
    "df = pd.concat([dummies,df] , axis =1)\n"
   ]
  },
  {
   "cell_type": "code",
   "execution_count": 129,
   "id": "4ca9539a",
   "metadata": {
    "slideshow": {
     "slide_type": "skip"
    }
   },
   "outputs": [],
   "source": [
    "df.drop('RestaurantID' , axis = 1 , inplace = True)"
   ]
  },
  {
   "cell_type": "code",
   "execution_count": 131,
   "id": "36265cc7",
   "metadata": {
    "slideshow": {
     "slide_type": "skip"
    }
   },
   "outputs": [],
   "source": [
    "## we will convert  MenuCategory into one hot encoding\n",
    "dummies = pd.get_dummies(df['MenuCategory'], sparse=True)\n",
    "df = pd.concat([dummies,df] , axis =1)"
   ]
  },
  {
   "cell_type": "code",
   "execution_count": 133,
   "id": "887e264e",
   "metadata": {
    "slideshow": {
     "slide_type": "skip"
    }
   },
   "outputs": [],
   "source": [
    "df.drop('MenuCategory' , axis = 1 , inplace = True)"
   ]
  },
  {
   "cell_type": "code",
   "execution_count": 135,
   "id": "bc872800",
   "metadata": {
    "slideshow": {
     "slide_type": "skip"
    }
   },
   "outputs": [],
   "source": [
    "## converting of MenuItem to label encoding\n",
    "from sklearn.preprocessing import LabelEncoder\n",
    "label_encoder = LabelEncoder()\n",
    "df['MenuItem'] = label_encoder.fit_transform(df['MenuItem'])"
   ]
  },
  {
   "cell_type": "code",
   "execution_count": 137,
   "id": "029e16a7",
   "metadata": {
    "slideshow": {
     "slide_type": "skip"
    }
   },
   "outputs": [],
   "source": [
    "#drop ingredients column:\n",
    "df.drop('Ingredients' , axis=1 , inplace = True)"
   ]
  },
  {
   "cell_type": "code",
   "execution_count": 139,
   "id": "afedc4e5",
   "metadata": {
    "slideshow": {
     "slide_type": "skip"
    }
   },
   "outputs": [],
   "source": [
    "## profitability Handling \n",
    "Profitability_wrapper = {'Low':0 ,  'Medium':1 , 'High':2}\n",
    "df['Profitability'] = df['Profitability'].replace(Profitability_wrapper)"
   ]
  },
  {
   "cell_type": "code",
   "execution_count": 140,
   "id": "dca20871",
   "metadata": {
    "slideshow": {
     "slide_type": "skip"
    }
   },
   "outputs": [
    {
     "data": {
      "text/html": [
       "<div>\n",
       "<style scoped>\n",
       "    .dataframe tbody tr th:only-of-type {\n",
       "        vertical-align: middle;\n",
       "    }\n",
       "\n",
       "    .dataframe tbody tr th {\n",
       "        vertical-align: top;\n",
       "    }\n",
       "\n",
       "    .dataframe thead th {\n",
       "        text-align: right;\n",
       "    }\n",
       "</style>\n",
       "<table border=\"1\" class=\"dataframe\">\n",
       "  <thead>\n",
       "    <tr style=\"text-align: right;\">\n",
       "      <th></th>\n",
       "      <th>Appetizers</th>\n",
       "      <th>Beverages</th>\n",
       "      <th>Desserts</th>\n",
       "      <th>Main Course</th>\n",
       "      <th>R001</th>\n",
       "      <th>R002</th>\n",
       "      <th>R003</th>\n",
       "      <th>MenuItem</th>\n",
       "      <th>Price</th>\n",
       "      <th>Profitability</th>\n",
       "    </tr>\n",
       "  </thead>\n",
       "  <tbody>\n",
       "    <tr>\n",
       "      <th>0</th>\n",
       "      <td>0</td>\n",
       "      <td>1</td>\n",
       "      <td>0</td>\n",
       "      <td>0</td>\n",
       "      <td>0</td>\n",
       "      <td>0</td>\n",
       "      <td>1</td>\n",
       "      <td>11</td>\n",
       "      <td>2.55</td>\n",
       "      <td>0</td>\n",
       "    </tr>\n",
       "    <tr>\n",
       "      <th>1</th>\n",
       "      <td>1</td>\n",
       "      <td>0</td>\n",
       "      <td>0</td>\n",
       "      <td>0</td>\n",
       "      <td>1</td>\n",
       "      <td>0</td>\n",
       "      <td>0</td>\n",
       "      <td>12</td>\n",
       "      <td>11.12</td>\n",
       "      <td>1</td>\n",
       "    </tr>\n",
       "    <tr>\n",
       "      <th>2</th>\n",
       "      <td>0</td>\n",
       "      <td>0</td>\n",
       "      <td>1</td>\n",
       "      <td>0</td>\n",
       "      <td>0</td>\n",
       "      <td>0</td>\n",
       "      <td>1</td>\n",
       "      <td>9</td>\n",
       "      <td>18.66</td>\n",
       "      <td>2</td>\n",
       "    </tr>\n",
       "    <tr>\n",
       "      <th>3</th>\n",
       "      <td>0</td>\n",
       "      <td>0</td>\n",
       "      <td>0</td>\n",
       "      <td>1</td>\n",
       "      <td>0</td>\n",
       "      <td>0</td>\n",
       "      <td>1</td>\n",
       "      <td>2</td>\n",
       "      <td>29.55</td>\n",
       "      <td>2</td>\n",
       "    </tr>\n",
       "    <tr>\n",
       "      <th>4</th>\n",
       "      <td>0</td>\n",
       "      <td>0</td>\n",
       "      <td>0</td>\n",
       "      <td>1</td>\n",
       "      <td>0</td>\n",
       "      <td>1</td>\n",
       "      <td>0</td>\n",
       "      <td>6</td>\n",
       "      <td>17.73</td>\n",
       "      <td>1</td>\n",
       "    </tr>\n",
       "    <tr>\n",
       "      <th>...</th>\n",
       "      <td>...</td>\n",
       "      <td>...</td>\n",
       "      <td>...</td>\n",
       "      <td>...</td>\n",
       "      <td>...</td>\n",
       "      <td>...</td>\n",
       "      <td>...</td>\n",
       "      <td>...</td>\n",
       "      <td>...</td>\n",
       "      <td>...</td>\n",
       "    </tr>\n",
       "    <tr>\n",
       "      <th>995</th>\n",
       "      <td>0</td>\n",
       "      <td>1</td>\n",
       "      <td>0</td>\n",
       "      <td>0</td>\n",
       "      <td>0</td>\n",
       "      <td>0</td>\n",
       "      <td>1</td>\n",
       "      <td>11</td>\n",
       "      <td>2.16</td>\n",
       "      <td>0</td>\n",
       "    </tr>\n",
       "    <tr>\n",
       "      <th>996</th>\n",
       "      <td>1</td>\n",
       "      <td>0</td>\n",
       "      <td>0</td>\n",
       "      <td>0</td>\n",
       "      <td>1</td>\n",
       "      <td>0</td>\n",
       "      <td>0</td>\n",
       "      <td>1</td>\n",
       "      <td>11.86</td>\n",
       "      <td>1</td>\n",
       "    </tr>\n",
       "    <tr>\n",
       "      <th>997</th>\n",
       "      <td>0</td>\n",
       "      <td>0</td>\n",
       "      <td>0</td>\n",
       "      <td>1</td>\n",
       "      <td>0</td>\n",
       "      <td>0</td>\n",
       "      <td>1</td>\n",
       "      <td>15</td>\n",
       "      <td>20.57</td>\n",
       "      <td>2</td>\n",
       "    </tr>\n",
       "    <tr>\n",
       "      <th>998</th>\n",
       "      <td>0</td>\n",
       "      <td>0</td>\n",
       "      <td>1</td>\n",
       "      <td>0</td>\n",
       "      <td>0</td>\n",
       "      <td>1</td>\n",
       "      <td>0</td>\n",
       "      <td>14</td>\n",
       "      <td>18.80</td>\n",
       "      <td>2</td>\n",
       "    </tr>\n",
       "    <tr>\n",
       "      <th>999</th>\n",
       "      <td>0</td>\n",
       "      <td>1</td>\n",
       "      <td>0</td>\n",
       "      <td>0</td>\n",
       "      <td>1</td>\n",
       "      <td>0</td>\n",
       "      <td>0</td>\n",
       "      <td>11</td>\n",
       "      <td>4.26</td>\n",
       "      <td>1</td>\n",
       "    </tr>\n",
       "  </tbody>\n",
       "</table>\n",
       "<p>973 rows × 10 columns</p>\n",
       "</div>"
      ],
      "text/plain": [
       "     Appetizers  Beverages  Desserts  Main Course  R001  R002  R003  MenuItem  \\\n",
       "0             0          1         0            0     0     0     1        11   \n",
       "1             1          0         0            0     1     0     0        12   \n",
       "2             0          0         1            0     0     0     1         9   \n",
       "3             0          0         0            1     0     0     1         2   \n",
       "4             0          0         0            1     0     1     0         6   \n",
       "..          ...        ...       ...          ...   ...   ...   ...       ...   \n",
       "995           0          1         0            0     0     0     1        11   \n",
       "996           1          0         0            0     1     0     0         1   \n",
       "997           0          0         0            1     0     0     1        15   \n",
       "998           0          0         1            0     0     1     0        14   \n",
       "999           0          1         0            0     1     0     0        11   \n",
       "\n",
       "     Price  Profitability  \n",
       "0     2.55              0  \n",
       "1    11.12              1  \n",
       "2    18.66              2  \n",
       "3    29.55              2  \n",
       "4    17.73              1  \n",
       "..     ...            ...  \n",
       "995   2.16              0  \n",
       "996  11.86              1  \n",
       "997  20.57              2  \n",
       "998  18.80              2  \n",
       "999   4.26              1  \n",
       "\n",
       "[973 rows x 10 columns]"
      ]
     },
     "execution_count": 140,
     "metadata": {},
     "output_type": "execute_result"
    }
   ],
   "source": [
    "df"
   ]
  },
  {
   "cell_type": "markdown",
   "id": "476ea10f",
   "metadata": {
    "slideshow": {
     "slide_type": "skip"
    }
   },
   "source": [
    "# Train & test split data"
   ]
  },
  {
   "cell_type": "code",
   "execution_count": 143,
   "id": "5a6e404b",
   "metadata": {
    "slideshow": {
     "slide_type": "skip"
    }
   },
   "outputs": [],
   "source": [
    "X = df.drop('Profitability' , axis = 1)\n",
    "Y = df['Profitability']"
   ]
  },
  {
   "cell_type": "code",
   "execution_count": 144,
   "id": "b02338e5",
   "metadata": {
    "slideshow": {
     "slide_type": "skip"
    }
   },
   "outputs": [],
   "source": [
    "from sklearn.model_selection import train_test_split\n",
    "\n",
    "X_train, X_test, y_train, y_test = train_test_split(X,Y,test_size = 0.3 , stratify= Y, random_state = 20 , shuffle = True)"
   ]
  },
  {
   "cell_type": "markdown",
   "id": "e8e5beb8",
   "metadata": {
    "slideshow": {
     "slide_type": "slide"
    }
   },
   "source": [
    "# Training Top Models "
   ]
  },
  {
   "cell_type": "markdown",
   "id": "134b22ac",
   "metadata": {
    "slideshow": {
     "slide_type": "slide"
    }
   },
   "source": [
    "### SVC"
   ]
  },
  {
   "cell_type": "code",
   "execution_count": 169,
   "id": "b853ec44",
   "metadata": {
    "slideshow": {
     "slide_type": "subslide"
    }
   },
   "outputs": [
    {
     "name": "stdout",
     "output_type": "stream",
     "text": [
      "svc accuracy : 82.53424657534246%\n",
      "svc confusion matrix: \n",
      "[[  0  29   5]\n",
      " [  0 136   7]\n",
      " [  0  10 105]]\n",
      "Mean square error: 0.22602739726027396\n",
      "R2 svc: 47.83879611335157%\n"
     ]
    },
    {
     "name": "stderr",
     "output_type": "stream",
     "text": [
      "C:\\Users\\CPU\\anaconda3\\lib\\site-packages\\sklearn\\utils\\validation.py:572: UserWarning: pandas.DataFrame with sparse columns found.It will be converted to a dense numpy array.\n",
      "  warnings.warn(\n",
      "C:\\Users\\CPU\\anaconda3\\lib\\site-packages\\sklearn\\utils\\validation.py:572: UserWarning: pandas.DataFrame with sparse columns found.It will be converted to a dense numpy array.\n",
      "  warnings.warn(\n"
     ]
    }
   ],
   "source": [
    "from sklearn.svm import SVC\n",
    "from sklearn.metrics import accuracy_score , confusion_matrix , mean_squared_error, r2_score\n",
    "SVC = SVC(kernel = \"linear\") \n",
    "SVC.fit(X_train , y_train)\n",
    "\n",
    "svc_pred = SVC.predict(X_test)\n",
    "\n",
    "#calculate accuracy\n",
    "SVC_accuracy = accuracy_score(y_test , pred)\n",
    "    confusion\n",
    " #calculate  matrix \n",
    "cm_svc = confusion_matrix(y_test , pred)\n",
    "mse_svc = mean_squared_error(y_test, svc_pred)\n",
    "r2_svc = r2_score(y_test, svc_pred)\n",
    "\n",
    "print(f'svc accuracy : {SVC_accuracy*100}%')\n",
    "print(f'svc confusion matrix: ')\n",
    "print(cm)\n",
    "print(f'Mean square error: {mse_svc}')\n",
    "print(f'R2 svc: {r2_svc * 100}%')"
   ]
  },
  {
   "cell_type": "code",
   "execution_count": 161,
   "id": "ff771843",
   "metadata": {
    "slideshow": {
     "slide_type": "subslide"
    }
   },
   "outputs": [
    {
     "data": {
      "image/png": "[encoded data removed]",
      "text/plain": [
       "<Figure size 432x288 with 1 Axes>"
      ]
     },
     "metadata": {
      "needs_background": "light"
     },
     "output_type": "display_data"
    }
   ],
   "source": [
    "# Plot KDE for Gradient Boosting Regressor\n",
    "sns.kdeplot(y_test, label='Actual', color='blue', fill=True)\n",
    "sns.kdeplot(svc_pred, label='Predicted (SVC)', color='green', fill=True)\n",
    "plt.title('KDE Plot for SVC')\n",
    "plt.xlabel('Profitability')\n",
    "plt.ylabel('Density')\n",
    "plt.legend()\n",
    "\n",
    "plt.tight_layout()\n",
    "plt.show()"
   ]
  },
  {
   "cell_type": "code",
   "execution_count": null,
   "id": "2b8cd5d3",
   "metadata": {
    "slideshow": {
     "slide_type": "skip"
    }
   },
   "outputs": [],
   "source": []
  },
  {
   "cell_type": "markdown",
   "id": "e2140393",
   "metadata": {
    "slideshow": {
     "slide_type": "slide"
    }
   },
   "source": [
    "### RandomForest Classifier"
   ]
  },
  {
   "cell_type": "code",
   "execution_count": 171,
   "id": "ccdb9a8a",
   "metadata": {
    "slideshow": {
     "slide_type": "subslide"
    }
   },
   "outputs": [
    {
     "name": "stdout",
     "output_type": "stream",
     "text": [
      "randomforest accuracy : 85.61643835616438%\n",
      "randomforest confusion matrix: \n",
      "[[ 22   7   5]\n",
      " [  2 126  15]\n",
      " [  6   7 102]]\n",
      "MSE RandomForest: 0.2568493150684932\n",
      "R2 RandomForest: 40.72590467426315%\n"
     ]
    },
    {
     "name": "stderr",
     "output_type": "stream",
     "text": [
      "C:\\Users\\CPU\\anaconda3\\lib\\site-packages\\sklearn\\utils\\validation.py:572: UserWarning: pandas.DataFrame with sparse columns found.It will be converted to a dense numpy array.\n",
      "  warnings.warn(\n",
      "C:\\Users\\CPU\\anaconda3\\lib\\site-packages\\sklearn\\utils\\validation.py:572: UserWarning: pandas.DataFrame with sparse columns found.It will be converted to a dense numpy array.\n",
      "  warnings.warn(\n"
     ]
    }
   ],
   "source": [
    "from sklearn.ensemble import RandomForestClassifier , GradientBoostingClassifier \n",
    "\n",
    "random = RandomForestClassifier(n_estimators=1 , random_state=0)\n",
    "random.fit(X_train , y_train)\n",
    "Random_pred = random.predict(X_test)\n",
    "\n",
    " #calculate accuracy\n",
    "Random_accuracy = accuracy_score(y_test , Random_pred)\n",
    "    \n",
    " #calculate confusion matrix \n",
    "cm_rf = confusion_matrix(y_test , Random_pred)\n",
    "mse_rf = mean_squared_error(y_test, Random_pred)\n",
    "r2_rf = r2_score(y_test, Random_pred)\n",
    "print(f'randomforest accuracy : {Random_accuracy*100}%')\n",
    "print(f'randomforest confusion matrix: ')\n",
    "print(cm_rf)\n",
    "print(f'MSE RandomForest: {mse_rf}')\n",
    "print(f'R2 RandomForest: {r2_rf * 100}%')"
   ]
  },
  {
   "cell_type": "code",
   "execution_count": 162,
   "id": "7bc4e1d1",
   "metadata": {
    "slideshow": {
     "slide_type": "subslide"
    }
   },
   "outputs": [
    {
     "data": {
      "image/png": "[encoded data removed]",
      "text/plain": [
       "<Figure size 432x288 with 1 Axes>"
      ]
     },
     "metadata": {
      "needs_background": "light"
     },
     "output_type": "display_data"
    }
   ],
   "source": [
    "# Plot KDE for RandomForest\n",
    "sns.kdeplot(y_test, label='Actual', color='blue', fill=True)\n",
    "sns.kdeplot(Random_pred, label='Predicted (RandomForest)', color='green', fill=True)\n",
    "plt.title('KDE Plot for RandomForest')\n",
    "plt.xlabel('Profitability')\n",
    "plt.ylabel('Density')\n",
    "plt.legend()\n",
    "\n",
    "plt.tight_layout()\n",
    "plt.show()"
   ]
  },
  {
   "cell_type": "markdown",
   "id": "9c2680d7",
   "metadata": {
    "slideshow": {
     "slide_type": "slide"
    }
   },
   "source": [
    "### GradientBoosting "
   ]
  },
  {
   "cell_type": "code",
   "execution_count": 157,
   "id": "51f437c3",
   "metadata": {
    "slideshow": {
     "slide_type": "subslide"
    }
   },
   "outputs": [
    {
     "name": "stdout",
     "output_type": "stream",
     "text": [
      "svc accuracy : 61.64383561643836%\n",
      "svc confusion matrix: \n",
      "[[  0  32   2]\n",
      " [  0 140   3]\n",
      " [  0  75  40]]\n"
     ]
    },
    {
     "name": "stderr",
     "output_type": "stream",
     "text": [
      "C:\\Users\\CPU\\anaconda3\\lib\\site-packages\\sklearn\\utils\\validation.py:572: UserWarning: pandas.DataFrame with sparse columns found.It will be converted to a dense numpy array.\n",
      "  warnings.warn(\n",
      "C:\\Users\\CPU\\anaconda3\\lib\\site-packages\\sklearn\\utils\\validation.py:572: UserWarning: pandas.DataFrame with sparse columns found.It will be converted to a dense numpy array.\n",
      "  warnings.warn(\n"
     ]
    }
   ],
   "source": [
    "Gradientboosting = GradientBoostingClassifier(n_estimators=1 , random_state=0)\n",
    "\n",
    "Gradientboosting.fit(X_train , y_train)\n",
    "Gradient_pred = Gradientboosting.predict(X_test)\n",
    "\n",
    "gradient_accuracy = accuracy_score(y_test , Gradient_pred)\n",
    " #calculate confusion matrix \n",
    "cm = confusion_matrix(y_test , Gradient_pred)\n",
    "\n",
    "print(f'GradientBoosting accuracy : {gradient_accuracy*100}%')\n",
    "print(f'GradientBoostin confusion matrix: ')\n",
    "print(cm) \n"
   ]
  },
  {
   "cell_type": "code",
   "execution_count": 163,
   "id": "9282a04a",
   "metadata": {
    "slideshow": {
     "slide_type": "subslide"
    }
   },
   "outputs": [
    {
     "data": {
      "image/png": "[encoded data removed]",
      "text/plain": [
       "<Figure size 432x288 with 1 Axes>"
      ]
     },
     "metadata": {
      "needs_background": "light"
     },
     "output_type": "display_data"
    }
   ],
   "source": [
    "# Plot KDE for Gradient Boosting Regressor\n",
    "sns.kdeplot(y_test, label='Actual', color='blue', fill=True)\n",
    "sns.kdeplot(Gradient_pred, label='Predicted (Gradient Boosting)', color='green', fill=True)\n",
    "plt.title('KDE Plot for Gradient Boosting')\n",
    "plt.xlabel('Profitability')\n",
    "plt.ylabel('Density')\n",
    "plt.legend()\n",
    "\n",
    "plt.tight_layout()\n",
    "plt.show()"
   ]
  },
  {
   "cell_type": "markdown",
   "id": "39d7ab6f",
   "metadata": {
    "slideshow": {
     "slide_type": "slide"
    }
   },
   "source": [
    "### KNeighborsClassifier"
   ]
  },
  {
   "cell_type": "code",
   "execution_count": 187,
   "id": "d60b802f",
   "metadata": {
    "slideshow": {
     "slide_type": "subslide"
    }
   },
   "outputs": [
    {
     "name": "stdout",
     "output_type": "stream",
     "text": [
      "Kneighbors accuracy : 85.61643835616438%\n",
      "Kneighbors confusion matrix: \n",
      "[[ 22   6   6]\n",
      " [  6 123  14]\n",
      " [  3   7 105]]\n"
     ]
    },
    {
     "name": "stderr",
     "output_type": "stream",
     "text": [
      "C:\\Users\\CPU\\anaconda3\\lib\\site-packages\\sklearn\\utils\\validation.py:572: UserWarning: pandas.DataFrame with sparse columns found.It will be converted to a dense numpy array.\n",
      "  warnings.warn(\n",
      "C:\\Users\\CPU\\anaconda3\\lib\\site-packages\\sklearn\\utils\\validation.py:572: UserWarning: pandas.DataFrame with sparse columns found.It will be converted to a dense numpy array.\n",
      "  warnings.warn(\n"
     ]
    }
   ],
   "source": [
    "from sklearn.neighbors import KNeighborsClassifier\n",
    "\n",
    "KNeighbors = KNeighborsClassifier(n_neighbors = 1) \n",
    "KNeighbors.fit(X_train , y_train)\n",
    "KNN_pred = KNeighbors.predict(X_test)\n",
    "\n",
    "KNN_accuracy = accuracy_score(y_test , KNN_pred)\n",
    "\n",
    " #calculate confusion matrix \n",
    "KNN_cm = confusion_matrix(y_test , KNN_pred)\n",
    "print(f'Kneighbors accuracy : {KNN_accuracy*100}%')\n",
    "print(f'Kneighbors confusion matrix: ')\n",
    "print(KNN_cm) \n"
   ]
  },
  {
   "cell_type": "code",
   "execution_count": 173,
   "id": "4c9e7d99",
   "metadata": {
    "slideshow": {
     "slide_type": "subslide"
    }
   },
   "outputs": [
    {
     "data": {
      "image/png": "[encoded data removed]",
      "text/plain": [
       "<Figure size 432x288 with 1 Axes>"
      ]
     },
     "metadata": {
      "needs_background": "light"
     },
     "output_type": "display_data"
    }
   ],
   "source": [
    "# Plot KDE for Kneighbors Classifier \n",
    "sns.kdeplot(y_test, label='Actual', color='blue', fill=True)\n",
    "sns.kdeplot(KNN_pred, label='Predicted ( KNN)', color='green', fill=True)\n",
    "plt.title('KDE Plot for Gradient Boosting')\n",
    "plt.xlabel('Profitability')\n",
    "plt.ylabel('Density')\n",
    "plt.legend()\n",
    "\n",
    "plt.tight_layout()\n",
    "plt.show()"
   ]
  },
  {
   "cell_type": "code",
   "execution_count": 188,
   "id": "0e3fbe0f",
   "metadata": {
    "slideshow": {
     "slide_type": "slide"
    }
   },
   "outputs": [
    {
     "data": {
      "text/html": [
       "<div>\n",
       "<style scoped>\n",
       "    .dataframe tbody tr th:only-of-type {\n",
       "        vertical-align: middle;\n",
       "    }\n",
       "\n",
       "    .dataframe tbody tr th {\n",
       "        vertical-align: top;\n",
       "    }\n",
       "\n",
       "    .dataframe thead th {\n",
       "        text-align: right;\n",
       "    }\n",
       "</style>\n",
       "<table border=\"1\" class=\"dataframe\">\n",
       "  <thead>\n",
       "    <tr style=\"text-align: right;\">\n",
       "      <th></th>\n",
       "      <th>Model</th>\n",
       "      <th>Accuracy</th>\n",
       "    </tr>\n",
       "  </thead>\n",
       "  <tbody>\n",
       "    <tr>\n",
       "      <th>0</th>\n",
       "      <td>SVC</td>\n",
       "      <td>0.825342</td>\n",
       "    </tr>\n",
       "    <tr>\n",
       "      <th>1</th>\n",
       "      <td>RandomForest</td>\n",
       "      <td>0.856164</td>\n",
       "    </tr>\n",
       "    <tr>\n",
       "      <th>2</th>\n",
       "      <td>Gradient Boosting</td>\n",
       "      <td>0.616438</td>\n",
       "    </tr>\n",
       "    <tr>\n",
       "      <th>3</th>\n",
       "      <td>Kneighbors</td>\n",
       "      <td>0.856164</td>\n",
       "    </tr>\n",
       "  </tbody>\n",
       "</table>\n",
       "</div>"
      ],
      "text/plain": [
       "               Model  Accuracy\n",
       "0                SVC  0.825342\n",
       "1       RandomForest  0.856164\n",
       "2  Gradient Boosting  0.616438\n",
       "3         Kneighbors  0.856164"
      ]
     },
     "execution_count": 188,
     "metadata": {},
     "output_type": "execute_result"
    }
   ],
   "source": [
    "model_comparison = pd.DataFrame({\n",
    "    'Model': ['SVC', 'RandomForest', 'Gradient Boosting', 'Kneighbors'],\n",
    "    'Accuracy': [SVC_accuracy, Random_accuracy, gradient_accuracy, KNN_accuracy]\n",
    "})\n",
    "\n",
    "model_comparison"
   ]
  },
  {
   "cell_type": "code",
   "execution_count": 189,
   "id": "b74708b7",
   "metadata": {
    "slideshow": {
     "slide_type": "subslide"
    }
   },
   "outputs": [
    {
     "data": {
      "image/png": "[encoded data removed]",
      "text/plain": [
       "<Figure size 720x360 with 1 Axes>"
      ]
     },
     "metadata": {
      "needs_background": "light"
     },
     "output_type": "display_data"
    }
   ],
   "source": [
    "# Plotting\n",
    "plt.figure(figsize=(10, 5))\n",
    "sns.barplot(x='Model', y='Accuracy', data=model_comparison, palette=\"viridis\")\n",
    "plt.title('Model Comparison based on ccuracy')\n",
    "plt.xlabel('Model')\n",
    "plt.ylabel('Accuracy')\n",
    "plt.show()"
   ]
  }
 ],
 "metadata": {
  "kernelspec": {
   "display_name": "Python 3 (ipykernel)",
   "language": "python",
   "name": "python3"
  },
  "language_info": {
   "codemirror_mode": {
    "name": "ipython",
    "version": 3
   },
   "file_extension": ".py",
   "mimetype": "text/x-python",
   "name": "python",
   "nbconvert_exporter": "python",
   "pygments_lexer": "ipython3",
   "version": "3.9.7"
  }
 },
 "nbformat": 4,
 "nbformat_minor": 5
}
